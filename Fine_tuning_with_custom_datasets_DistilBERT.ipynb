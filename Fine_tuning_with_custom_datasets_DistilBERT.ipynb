{
  "nbformat": 4,
  "nbformat_minor": 0,
  "metadata": {
    "colab": {
      "name": "Fine-tuning with custom datasets DistilBERT.ipynb",
      "provenance": [],
      "include_colab_link": true
    },
    "kernelspec": {
      "name": "python3",
      "display_name": "Python 3"
    },
    "accelerator": "GPU",
    "widgets": {
      "application/vnd.jupyter.widget-state+json": {
        "21336210aab3458c89dd1b87e52fa802": {
          "model_module": "@jupyter-widgets/controls",
          "model_name": "HBoxModel",
          "state": {
            "_view_name": "HBoxView",
            "_dom_classes": [],
            "_model_name": "HBoxModel",
            "_view_module": "@jupyter-widgets/controls",
            "_model_module_version": "1.5.0",
            "_view_count": null,
            "_view_module_version": "1.5.0",
            "box_style": "",
            "layout": "IPY_MODEL_d5c354e447c3441bb494e71991b5c8e7",
            "_model_module": "@jupyter-widgets/controls",
            "children": [
              "IPY_MODEL_4f4d7bdd564449a18608ce0df3fbfc70",
              "IPY_MODEL_d769394d4fab4a7f93dab0a3071da4a7"
            ]
          }
        },
        "d5c354e447c3441bb494e71991b5c8e7": {
          "model_module": "@jupyter-widgets/base",
          "model_name": "LayoutModel",
          "state": {
            "_view_name": "LayoutView",
            "grid_template_rows": null,
            "right": null,
            "justify_content": null,
            "_view_module": "@jupyter-widgets/base",
            "overflow": null,
            "_model_module_version": "1.2.0",
            "_view_count": null,
            "flex_flow": null,
            "width": null,
            "min_width": null,
            "border": null,
            "align_items": null,
            "bottom": null,
            "_model_module": "@jupyter-widgets/base",
            "top": null,
            "grid_column": null,
            "overflow_y": null,
            "overflow_x": null,
            "grid_auto_flow": null,
            "grid_area": null,
            "grid_template_columns": null,
            "flex": null,
            "_model_name": "LayoutModel",
            "justify_items": null,
            "grid_row": null,
            "max_height": null,
            "align_content": null,
            "visibility": null,
            "align_self": null,
            "height": null,
            "min_height": null,
            "padding": null,
            "grid_auto_rows": null,
            "grid_gap": null,
            "max_width": null,
            "order": null,
            "_view_module_version": "1.2.0",
            "grid_template_areas": null,
            "object_position": null,
            "object_fit": null,
            "grid_auto_columns": null,
            "margin": null,
            "display": null,
            "left": null
          }
        },
        "4f4d7bdd564449a18608ce0df3fbfc70": {
          "model_module": "@jupyter-widgets/controls",
          "model_name": "FloatProgressModel",
          "state": {
            "_view_name": "ProgressView",
            "style": "IPY_MODEL_3d0fe223aedf44fdb4fde47aed387eef",
            "_dom_classes": [],
            "description": "Downloading: 100%",
            "_model_name": "FloatProgressModel",
            "bar_style": "success",
            "max": 231508,
            "_view_module": "@jupyter-widgets/controls",
            "_model_module_version": "1.5.0",
            "value": 231508,
            "_view_count": null,
            "_view_module_version": "1.5.0",
            "orientation": "horizontal",
            "min": 0,
            "description_tooltip": null,
            "_model_module": "@jupyter-widgets/controls",
            "layout": "IPY_MODEL_8c1f67ebdea64523af1716f5c29696ad"
          }
        },
        "d769394d4fab4a7f93dab0a3071da4a7": {
          "model_module": "@jupyter-widgets/controls",
          "model_name": "HTMLModel",
          "state": {
            "_view_name": "HTMLView",
            "style": "IPY_MODEL_8ad1ea685d754575bb1d2392f5b00e17",
            "_dom_classes": [],
            "description": "",
            "_model_name": "HTMLModel",
            "placeholder": "​",
            "_view_module": "@jupyter-widgets/controls",
            "_model_module_version": "1.5.0",
            "value": " 232k/232k [00:00&lt;00:00, 2.51MB/s]",
            "_view_count": null,
            "_view_module_version": "1.5.0",
            "description_tooltip": null,
            "_model_module": "@jupyter-widgets/controls",
            "layout": "IPY_MODEL_a58252109a854c4dad651c905e486003"
          }
        },
        "3d0fe223aedf44fdb4fde47aed387eef": {
          "model_module": "@jupyter-widgets/controls",
          "model_name": "ProgressStyleModel",
          "state": {
            "_view_name": "StyleView",
            "_model_name": "ProgressStyleModel",
            "description_width": "initial",
            "_view_module": "@jupyter-widgets/base",
            "_model_module_version": "1.5.0",
            "_view_count": null,
            "_view_module_version": "1.2.0",
            "bar_color": null,
            "_model_module": "@jupyter-widgets/controls"
          }
        },
        "8c1f67ebdea64523af1716f5c29696ad": {
          "model_module": "@jupyter-widgets/base",
          "model_name": "LayoutModel",
          "state": {
            "_view_name": "LayoutView",
            "grid_template_rows": null,
            "right": null,
            "justify_content": null,
            "_view_module": "@jupyter-widgets/base",
            "overflow": null,
            "_model_module_version": "1.2.0",
            "_view_count": null,
            "flex_flow": null,
            "width": null,
            "min_width": null,
            "border": null,
            "align_items": null,
            "bottom": null,
            "_model_module": "@jupyter-widgets/base",
            "top": null,
            "grid_column": null,
            "overflow_y": null,
            "overflow_x": null,
            "grid_auto_flow": null,
            "grid_area": null,
            "grid_template_columns": null,
            "flex": null,
            "_model_name": "LayoutModel",
            "justify_items": null,
            "grid_row": null,
            "max_height": null,
            "align_content": null,
            "visibility": null,
            "align_self": null,
            "height": null,
            "min_height": null,
            "padding": null,
            "grid_auto_rows": null,
            "grid_gap": null,
            "max_width": null,
            "order": null,
            "_view_module_version": "1.2.0",
            "grid_template_areas": null,
            "object_position": null,
            "object_fit": null,
            "grid_auto_columns": null,
            "margin": null,
            "display": null,
            "left": null
          }
        },
        "8ad1ea685d754575bb1d2392f5b00e17": {
          "model_module": "@jupyter-widgets/controls",
          "model_name": "DescriptionStyleModel",
          "state": {
            "_view_name": "StyleView",
            "_model_name": "DescriptionStyleModel",
            "description_width": "",
            "_view_module": "@jupyter-widgets/base",
            "_model_module_version": "1.5.0",
            "_view_count": null,
            "_view_module_version": "1.2.0",
            "_model_module": "@jupyter-widgets/controls"
          }
        },
        "a58252109a854c4dad651c905e486003": {
          "model_module": "@jupyter-widgets/base",
          "model_name": "LayoutModel",
          "state": {
            "_view_name": "LayoutView",
            "grid_template_rows": null,
            "right": null,
            "justify_content": null,
            "_view_module": "@jupyter-widgets/base",
            "overflow": null,
            "_model_module_version": "1.2.0",
            "_view_count": null,
            "flex_flow": null,
            "width": null,
            "min_width": null,
            "border": null,
            "align_items": null,
            "bottom": null,
            "_model_module": "@jupyter-widgets/base",
            "top": null,
            "grid_column": null,
            "overflow_y": null,
            "overflow_x": null,
            "grid_auto_flow": null,
            "grid_area": null,
            "grid_template_columns": null,
            "flex": null,
            "_model_name": "LayoutModel",
            "justify_items": null,
            "grid_row": null,
            "max_height": null,
            "align_content": null,
            "visibility": null,
            "align_self": null,
            "height": null,
            "min_height": null,
            "padding": null,
            "grid_auto_rows": null,
            "grid_gap": null,
            "max_width": null,
            "order": null,
            "_view_module_version": "1.2.0",
            "grid_template_areas": null,
            "object_position": null,
            "object_fit": null,
            "grid_auto_columns": null,
            "margin": null,
            "display": null,
            "left": null
          }
        },
        "8a355eca29214e43a015d75b8f79e3ac": {
          "model_module": "@jupyter-widgets/controls",
          "model_name": "HBoxModel",
          "state": {
            "_view_name": "HBoxView",
            "_dom_classes": [],
            "_model_name": "HBoxModel",
            "_view_module": "@jupyter-widgets/controls",
            "_model_module_version": "1.5.0",
            "_view_count": null,
            "_view_module_version": "1.5.0",
            "box_style": "",
            "layout": "IPY_MODEL_a30d8622076249a29a7d1bc1e6a553d3",
            "_model_module": "@jupyter-widgets/controls",
            "children": [
              "IPY_MODEL_2c42a82d2283469ebec9642c756c19a5",
              "IPY_MODEL_d3fd4c350349423f8dafe9a738ed29f4"
            ]
          }
        },
        "a30d8622076249a29a7d1bc1e6a553d3": {
          "model_module": "@jupyter-widgets/base",
          "model_name": "LayoutModel",
          "state": {
            "_view_name": "LayoutView",
            "grid_template_rows": null,
            "right": null,
            "justify_content": null,
            "_view_module": "@jupyter-widgets/base",
            "overflow": null,
            "_model_module_version": "1.2.0",
            "_view_count": null,
            "flex_flow": null,
            "width": null,
            "min_width": null,
            "border": null,
            "align_items": null,
            "bottom": null,
            "_model_module": "@jupyter-widgets/base",
            "top": null,
            "grid_column": null,
            "overflow_y": null,
            "overflow_x": null,
            "grid_auto_flow": null,
            "grid_area": null,
            "grid_template_columns": null,
            "flex": null,
            "_model_name": "LayoutModel",
            "justify_items": null,
            "grid_row": null,
            "max_height": null,
            "align_content": null,
            "visibility": null,
            "align_self": null,
            "height": null,
            "min_height": null,
            "padding": null,
            "grid_auto_rows": null,
            "grid_gap": null,
            "max_width": null,
            "order": null,
            "_view_module_version": "1.2.0",
            "grid_template_areas": null,
            "object_position": null,
            "object_fit": null,
            "grid_auto_columns": null,
            "margin": null,
            "display": null,
            "left": null
          }
        },
        "2c42a82d2283469ebec9642c756c19a5": {
          "model_module": "@jupyter-widgets/controls",
          "model_name": "FloatProgressModel",
          "state": {
            "_view_name": "ProgressView",
            "style": "IPY_MODEL_404d87db6407445692fe5b329c4e59eb",
            "_dom_classes": [],
            "description": "Downloading: 100%",
            "_model_name": "FloatProgressModel",
            "bar_style": "success",
            "max": 466062,
            "_view_module": "@jupyter-widgets/controls",
            "_model_module_version": "1.5.0",
            "value": 466062,
            "_view_count": null,
            "_view_module_version": "1.5.0",
            "orientation": "horizontal",
            "min": 0,
            "description_tooltip": null,
            "_model_module": "@jupyter-widgets/controls",
            "layout": "IPY_MODEL_3d9931299eba418eb3427399725bb09e"
          }
        },
        "d3fd4c350349423f8dafe9a738ed29f4": {
          "model_module": "@jupyter-widgets/controls",
          "model_name": "HTMLModel",
          "state": {
            "_view_name": "HTMLView",
            "style": "IPY_MODEL_214eb70da80f49d9add05c21cce36c07",
            "_dom_classes": [],
            "description": "",
            "_model_name": "HTMLModel",
            "placeholder": "​",
            "_view_module": "@jupyter-widgets/controls",
            "_model_module_version": "1.5.0",
            "value": " 466k/466k [00:12&lt;00:00, 38.6kB/s]",
            "_view_count": null,
            "_view_module_version": "1.5.0",
            "description_tooltip": null,
            "_model_module": "@jupyter-widgets/controls",
            "layout": "IPY_MODEL_aea524cebe43445faeb78e66dd293979"
          }
        },
        "404d87db6407445692fe5b329c4e59eb": {
          "model_module": "@jupyter-widgets/controls",
          "model_name": "ProgressStyleModel",
          "state": {
            "_view_name": "StyleView",
            "_model_name": "ProgressStyleModel",
            "description_width": "initial",
            "_view_module": "@jupyter-widgets/base",
            "_model_module_version": "1.5.0",
            "_view_count": null,
            "_view_module_version": "1.2.0",
            "bar_color": null,
            "_model_module": "@jupyter-widgets/controls"
          }
        },
        "3d9931299eba418eb3427399725bb09e": {
          "model_module": "@jupyter-widgets/base",
          "model_name": "LayoutModel",
          "state": {
            "_view_name": "LayoutView",
            "grid_template_rows": null,
            "right": null,
            "justify_content": null,
            "_view_module": "@jupyter-widgets/base",
            "overflow": null,
            "_model_module_version": "1.2.0",
            "_view_count": null,
            "flex_flow": null,
            "width": null,
            "min_width": null,
            "border": null,
            "align_items": null,
            "bottom": null,
            "_model_module": "@jupyter-widgets/base",
            "top": null,
            "grid_column": null,
            "overflow_y": null,
            "overflow_x": null,
            "grid_auto_flow": null,
            "grid_area": null,
            "grid_template_columns": null,
            "flex": null,
            "_model_name": "LayoutModel",
            "justify_items": null,
            "grid_row": null,
            "max_height": null,
            "align_content": null,
            "visibility": null,
            "align_self": null,
            "height": null,
            "min_height": null,
            "padding": null,
            "grid_auto_rows": null,
            "grid_gap": null,
            "max_width": null,
            "order": null,
            "_view_module_version": "1.2.0",
            "grid_template_areas": null,
            "object_position": null,
            "object_fit": null,
            "grid_auto_columns": null,
            "margin": null,
            "display": null,
            "left": null
          }
        },
        "214eb70da80f49d9add05c21cce36c07": {
          "model_module": "@jupyter-widgets/controls",
          "model_name": "DescriptionStyleModel",
          "state": {
            "_view_name": "StyleView",
            "_model_name": "DescriptionStyleModel",
            "description_width": "",
            "_view_module": "@jupyter-widgets/base",
            "_model_module_version": "1.5.0",
            "_view_count": null,
            "_view_module_version": "1.2.0",
            "_model_module": "@jupyter-widgets/controls"
          }
        },
        "aea524cebe43445faeb78e66dd293979": {
          "model_module": "@jupyter-widgets/base",
          "model_name": "LayoutModel",
          "state": {
            "_view_name": "LayoutView",
            "grid_template_rows": null,
            "right": null,
            "justify_content": null,
            "_view_module": "@jupyter-widgets/base",
            "overflow": null,
            "_model_module_version": "1.2.0",
            "_view_count": null,
            "flex_flow": null,
            "width": null,
            "min_width": null,
            "border": null,
            "align_items": null,
            "bottom": null,
            "_model_module": "@jupyter-widgets/base",
            "top": null,
            "grid_column": null,
            "overflow_y": null,
            "overflow_x": null,
            "grid_auto_flow": null,
            "grid_area": null,
            "grid_template_columns": null,
            "flex": null,
            "_model_name": "LayoutModel",
            "justify_items": null,
            "grid_row": null,
            "max_height": null,
            "align_content": null,
            "visibility": null,
            "align_self": null,
            "height": null,
            "min_height": null,
            "padding": null,
            "grid_auto_rows": null,
            "grid_gap": null,
            "max_width": null,
            "order": null,
            "_view_module_version": "1.2.0",
            "grid_template_areas": null,
            "object_position": null,
            "object_fit": null,
            "grid_auto_columns": null,
            "margin": null,
            "display": null,
            "left": null
          }
        },
        "cdd5369638384df2b53a317380d32b6b": {
          "model_module": "@jupyter-widgets/controls",
          "model_name": "HBoxModel",
          "state": {
            "_view_name": "HBoxView",
            "_dom_classes": [],
            "_model_name": "HBoxModel",
            "_view_module": "@jupyter-widgets/controls",
            "_model_module_version": "1.5.0",
            "_view_count": null,
            "_view_module_version": "1.5.0",
            "box_style": "",
            "layout": "IPY_MODEL_a52a31da0eaa42bd95fb7c3c12ab9d5f",
            "_model_module": "@jupyter-widgets/controls",
            "children": [
              "IPY_MODEL_1cb2ddfddffd4919966c78588a8e23b9",
              "IPY_MODEL_77f0d10a16374d40844a14d401377451"
            ]
          }
        },
        "a52a31da0eaa42bd95fb7c3c12ab9d5f": {
          "model_module": "@jupyter-widgets/base",
          "model_name": "LayoutModel",
          "state": {
            "_view_name": "LayoutView",
            "grid_template_rows": null,
            "right": null,
            "justify_content": null,
            "_view_module": "@jupyter-widgets/base",
            "overflow": null,
            "_model_module_version": "1.2.0",
            "_view_count": null,
            "flex_flow": null,
            "width": null,
            "min_width": null,
            "border": null,
            "align_items": null,
            "bottom": null,
            "_model_module": "@jupyter-widgets/base",
            "top": null,
            "grid_column": null,
            "overflow_y": null,
            "overflow_x": null,
            "grid_auto_flow": null,
            "grid_area": null,
            "grid_template_columns": null,
            "flex": null,
            "_model_name": "LayoutModel",
            "justify_items": null,
            "grid_row": null,
            "max_height": null,
            "align_content": null,
            "visibility": null,
            "align_self": null,
            "height": null,
            "min_height": null,
            "padding": null,
            "grid_auto_rows": null,
            "grid_gap": null,
            "max_width": null,
            "order": null,
            "_view_module_version": "1.2.0",
            "grid_template_areas": null,
            "object_position": null,
            "object_fit": null,
            "grid_auto_columns": null,
            "margin": null,
            "display": null,
            "left": null
          }
        },
        "1cb2ddfddffd4919966c78588a8e23b9": {
          "model_module": "@jupyter-widgets/controls",
          "model_name": "FloatProgressModel",
          "state": {
            "_view_name": "ProgressView",
            "style": "IPY_MODEL_dfd33321d7f244adbf892cffe2908486",
            "_dom_classes": [],
            "description": "Downloading: 100%",
            "_model_name": "FloatProgressModel",
            "bar_style": "success",
            "max": 442,
            "_view_module": "@jupyter-widgets/controls",
            "_model_module_version": "1.5.0",
            "value": 442,
            "_view_count": null,
            "_view_module_version": "1.5.0",
            "orientation": "horizontal",
            "min": 0,
            "description_tooltip": null,
            "_model_module": "@jupyter-widgets/controls",
            "layout": "IPY_MODEL_f1d0f369f63b414b87f15838013f80f2"
          }
        },
        "77f0d10a16374d40844a14d401377451": {
          "model_module": "@jupyter-widgets/controls",
          "model_name": "HTMLModel",
          "state": {
            "_view_name": "HTMLView",
            "style": "IPY_MODEL_f8dacc88ef0443ef8abf9fc942575406",
            "_dom_classes": [],
            "description": "",
            "_model_name": "HTMLModel",
            "placeholder": "​",
            "_view_module": "@jupyter-widgets/controls",
            "_model_module_version": "1.5.0",
            "value": " 442/442 [07:50&lt;00:00, 1.07s/B]",
            "_view_count": null,
            "_view_module_version": "1.5.0",
            "description_tooltip": null,
            "_model_module": "@jupyter-widgets/controls",
            "layout": "IPY_MODEL_d0662131b8cf43b8a1f995def617b171"
          }
        },
        "dfd33321d7f244adbf892cffe2908486": {
          "model_module": "@jupyter-widgets/controls",
          "model_name": "ProgressStyleModel",
          "state": {
            "_view_name": "StyleView",
            "_model_name": "ProgressStyleModel",
            "description_width": "initial",
            "_view_module": "@jupyter-widgets/base",
            "_model_module_version": "1.5.0",
            "_view_count": null,
            "_view_module_version": "1.2.0",
            "bar_color": null,
            "_model_module": "@jupyter-widgets/controls"
          }
        },
        "f1d0f369f63b414b87f15838013f80f2": {
          "model_module": "@jupyter-widgets/base",
          "model_name": "LayoutModel",
          "state": {
            "_view_name": "LayoutView",
            "grid_template_rows": null,
            "right": null,
            "justify_content": null,
            "_view_module": "@jupyter-widgets/base",
            "overflow": null,
            "_model_module_version": "1.2.0",
            "_view_count": null,
            "flex_flow": null,
            "width": null,
            "min_width": null,
            "border": null,
            "align_items": null,
            "bottom": null,
            "_model_module": "@jupyter-widgets/base",
            "top": null,
            "grid_column": null,
            "overflow_y": null,
            "overflow_x": null,
            "grid_auto_flow": null,
            "grid_area": null,
            "grid_template_columns": null,
            "flex": null,
            "_model_name": "LayoutModel",
            "justify_items": null,
            "grid_row": null,
            "max_height": null,
            "align_content": null,
            "visibility": null,
            "align_self": null,
            "height": null,
            "min_height": null,
            "padding": null,
            "grid_auto_rows": null,
            "grid_gap": null,
            "max_width": null,
            "order": null,
            "_view_module_version": "1.2.0",
            "grid_template_areas": null,
            "object_position": null,
            "object_fit": null,
            "grid_auto_columns": null,
            "margin": null,
            "display": null,
            "left": null
          }
        },
        "f8dacc88ef0443ef8abf9fc942575406": {
          "model_module": "@jupyter-widgets/controls",
          "model_name": "DescriptionStyleModel",
          "state": {
            "_view_name": "StyleView",
            "_model_name": "DescriptionStyleModel",
            "description_width": "",
            "_view_module": "@jupyter-widgets/base",
            "_model_module_version": "1.5.0",
            "_view_count": null,
            "_view_module_version": "1.2.0",
            "_model_module": "@jupyter-widgets/controls"
          }
        },
        "d0662131b8cf43b8a1f995def617b171": {
          "model_module": "@jupyter-widgets/base",
          "model_name": "LayoutModel",
          "state": {
            "_view_name": "LayoutView",
            "grid_template_rows": null,
            "right": null,
            "justify_content": null,
            "_view_module": "@jupyter-widgets/base",
            "overflow": null,
            "_model_module_version": "1.2.0",
            "_view_count": null,
            "flex_flow": null,
            "width": null,
            "min_width": null,
            "border": null,
            "align_items": null,
            "bottom": null,
            "_model_module": "@jupyter-widgets/base",
            "top": null,
            "grid_column": null,
            "overflow_y": null,
            "overflow_x": null,
            "grid_auto_flow": null,
            "grid_area": null,
            "grid_template_columns": null,
            "flex": null,
            "_model_name": "LayoutModel",
            "justify_items": null,
            "grid_row": null,
            "max_height": null,
            "align_content": null,
            "visibility": null,
            "align_self": null,
            "height": null,
            "min_height": null,
            "padding": null,
            "grid_auto_rows": null,
            "grid_gap": null,
            "max_width": null,
            "order": null,
            "_view_module_version": "1.2.0",
            "grid_template_areas": null,
            "object_position": null,
            "object_fit": null,
            "grid_auto_columns": null,
            "margin": null,
            "display": null,
            "left": null
          }
        },
        "c152c3bc64e44186a787d39b59d6df7e": {
          "model_module": "@jupyter-widgets/controls",
          "model_name": "HBoxModel",
          "state": {
            "_view_name": "HBoxView",
            "_dom_classes": [],
            "_model_name": "HBoxModel",
            "_view_module": "@jupyter-widgets/controls",
            "_model_module_version": "1.5.0",
            "_view_count": null,
            "_view_module_version": "1.5.0",
            "box_style": "",
            "layout": "IPY_MODEL_d1afac9eef31447da66d17292ce4a4b0",
            "_model_module": "@jupyter-widgets/controls",
            "children": [
              "IPY_MODEL_87b7725485844c9eafb9ef5f45c4bac1",
              "IPY_MODEL_bcadef9c390447f99ca776e02ba282d2"
            ]
          }
        },
        "d1afac9eef31447da66d17292ce4a4b0": {
          "model_module": "@jupyter-widgets/base",
          "model_name": "LayoutModel",
          "state": {
            "_view_name": "LayoutView",
            "grid_template_rows": null,
            "right": null,
            "justify_content": null,
            "_view_module": "@jupyter-widgets/base",
            "overflow": null,
            "_model_module_version": "1.2.0",
            "_view_count": null,
            "flex_flow": null,
            "width": null,
            "min_width": null,
            "border": null,
            "align_items": null,
            "bottom": null,
            "_model_module": "@jupyter-widgets/base",
            "top": null,
            "grid_column": null,
            "overflow_y": null,
            "overflow_x": null,
            "grid_auto_flow": null,
            "grid_area": null,
            "grid_template_columns": null,
            "flex": null,
            "_model_name": "LayoutModel",
            "justify_items": null,
            "grid_row": null,
            "max_height": null,
            "align_content": null,
            "visibility": null,
            "align_self": null,
            "height": null,
            "min_height": null,
            "padding": null,
            "grid_auto_rows": null,
            "grid_gap": null,
            "max_width": null,
            "order": null,
            "_view_module_version": "1.2.0",
            "grid_template_areas": null,
            "object_position": null,
            "object_fit": null,
            "grid_auto_columns": null,
            "margin": null,
            "display": null,
            "left": null
          }
        },
        "87b7725485844c9eafb9ef5f45c4bac1": {
          "model_module": "@jupyter-widgets/controls",
          "model_name": "FloatProgressModel",
          "state": {
            "_view_name": "ProgressView",
            "style": "IPY_MODEL_e38a4ac4a6294a55bdb27a85e5be2cc8",
            "_dom_classes": [],
            "description": "Downloading: 100%",
            "_model_name": "FloatProgressModel",
            "bar_style": "success",
            "max": 267967963,
            "_view_module": "@jupyter-widgets/controls",
            "_model_module_version": "1.5.0",
            "value": 267967963,
            "_view_count": null,
            "_view_module_version": "1.5.0",
            "orientation": "horizontal",
            "min": 0,
            "description_tooltip": null,
            "_model_module": "@jupyter-widgets/controls",
            "layout": "IPY_MODEL_7ea7e076c76c4aceb5d17454298ac2ea"
          }
        },
        "bcadef9c390447f99ca776e02ba282d2": {
          "model_module": "@jupyter-widgets/controls",
          "model_name": "HTMLModel",
          "state": {
            "_view_name": "HTMLView",
            "style": "IPY_MODEL_1cb0e7a11dd1408594892248ed430c44",
            "_dom_classes": [],
            "description": "",
            "_model_name": "HTMLModel",
            "placeholder": "​",
            "_view_module": "@jupyter-widgets/controls",
            "_model_module_version": "1.5.0",
            "value": " 268M/268M [07:50&lt;00:00, 569kB/s]",
            "_view_count": null,
            "_view_module_version": "1.5.0",
            "description_tooltip": null,
            "_model_module": "@jupyter-widgets/controls",
            "layout": "IPY_MODEL_7352d62a72f84ea78aae0c3849257927"
          }
        },
        "e38a4ac4a6294a55bdb27a85e5be2cc8": {
          "model_module": "@jupyter-widgets/controls",
          "model_name": "ProgressStyleModel",
          "state": {
            "_view_name": "StyleView",
            "_model_name": "ProgressStyleModel",
            "description_width": "initial",
            "_view_module": "@jupyter-widgets/base",
            "_model_module_version": "1.5.0",
            "_view_count": null,
            "_view_module_version": "1.2.0",
            "bar_color": null,
            "_model_module": "@jupyter-widgets/controls"
          }
        },
        "7ea7e076c76c4aceb5d17454298ac2ea": {
          "model_module": "@jupyter-widgets/base",
          "model_name": "LayoutModel",
          "state": {
            "_view_name": "LayoutView",
            "grid_template_rows": null,
            "right": null,
            "justify_content": null,
            "_view_module": "@jupyter-widgets/base",
            "overflow": null,
            "_model_module_version": "1.2.0",
            "_view_count": null,
            "flex_flow": null,
            "width": null,
            "min_width": null,
            "border": null,
            "align_items": null,
            "bottom": null,
            "_model_module": "@jupyter-widgets/base",
            "top": null,
            "grid_column": null,
            "overflow_y": null,
            "overflow_x": null,
            "grid_auto_flow": null,
            "grid_area": null,
            "grid_template_columns": null,
            "flex": null,
            "_model_name": "LayoutModel",
            "justify_items": null,
            "grid_row": null,
            "max_height": null,
            "align_content": null,
            "visibility": null,
            "align_self": null,
            "height": null,
            "min_height": null,
            "padding": null,
            "grid_auto_rows": null,
            "grid_gap": null,
            "max_width": null,
            "order": null,
            "_view_module_version": "1.2.0",
            "grid_template_areas": null,
            "object_position": null,
            "object_fit": null,
            "grid_auto_columns": null,
            "margin": null,
            "display": null,
            "left": null
          }
        },
        "1cb0e7a11dd1408594892248ed430c44": {
          "model_module": "@jupyter-widgets/controls",
          "model_name": "DescriptionStyleModel",
          "state": {
            "_view_name": "StyleView",
            "_model_name": "DescriptionStyleModel",
            "description_width": "",
            "_view_module": "@jupyter-widgets/base",
            "_model_module_version": "1.5.0",
            "_view_count": null,
            "_view_module_version": "1.2.0",
            "_model_module": "@jupyter-widgets/controls"
          }
        },
        "7352d62a72f84ea78aae0c3849257927": {
          "model_module": "@jupyter-widgets/base",
          "model_name": "LayoutModel",
          "state": {
            "_view_name": "LayoutView",
            "grid_template_rows": null,
            "right": null,
            "justify_content": null,
            "_view_module": "@jupyter-widgets/base",
            "overflow": null,
            "_model_module_version": "1.2.0",
            "_view_count": null,
            "flex_flow": null,
            "width": null,
            "min_width": null,
            "border": null,
            "align_items": null,
            "bottom": null,
            "_model_module": "@jupyter-widgets/base",
            "top": null,
            "grid_column": null,
            "overflow_y": null,
            "overflow_x": null,
            "grid_auto_flow": null,
            "grid_area": null,
            "grid_template_columns": null,
            "flex": null,
            "_model_name": "LayoutModel",
            "justify_items": null,
            "grid_row": null,
            "max_height": null,
            "align_content": null,
            "visibility": null,
            "align_self": null,
            "height": null,
            "min_height": null,
            "padding": null,
            "grid_auto_rows": null,
            "grid_gap": null,
            "max_width": null,
            "order": null,
            "_view_module_version": "1.2.0",
            "grid_template_areas": null,
            "object_position": null,
            "object_fit": null,
            "grid_auto_columns": null,
            "margin": null,
            "display": null,
            "left": null
          }
        }
      }
    }
  },
  "cells": [
    {
      "cell_type": "markdown",
      "metadata": {
        "id": "view-in-github",
        "colab_type": "text"
      },
      "source": [
        "<a href=\"https://colab.research.google.com/github/GabrielBG0/Text-Processing-With-Huggingfaces-Transformers/blob/main/Fine_tuning_with_custom_datasets_DistilBERT.ipynb\" target=\"_parent\"><img src=\"https://colab.research.google.com/assets/colab-badge.svg\" alt=\"Open In Colab\"/></a>"
      ]
    },
    {
      "cell_type": "markdown",
      "metadata": {
        "id": "lIjDaJ_QihG6"
      },
      "source": [
        "Made with help of https://huggingface.co/transformers/custom_datasets.html"
      ]
    },
    {
      "cell_type": "code",
      "metadata": {
        "id": "gMG7yh-ml0C8"
      },
      "source": [
        "# Deleting default sample data folder\r\n",
        "!rm -rf /content/sample_data"
      ],
      "execution_count": null,
      "outputs": []
    },
    {
      "cell_type": "code",
      "metadata": {
        "id": "f_iJGB5wgaXb",
        "colab": {
          "base_uri": "https://localhost:8080/"
        },
        "outputId": "e0c7d98d-a273-49c6-a3fe-031c4f2b3283"
      },
      "source": [
        "# Install aditional librarys\r\n",
        "!pip install transformers\r\n",
        "!pip install datasets"
      ],
      "execution_count": null,
      "outputs": [
        {
          "output_type": "stream",
          "text": [
            "Collecting transformers\n",
            "\u001b[?25l  Downloading https://files.pythonhosted.org/packages/f9/54/5ca07ec9569d2f232f3166de5457b63943882f7950ddfcc887732fc7fb23/transformers-4.3.3-py3-none-any.whl (1.9MB)\n",
            "\r\u001b[K     |▏                               | 10kB 20.2MB/s eta 0:00:01\r\u001b[K     |▍                               | 20kB 28.2MB/s eta 0:00:01\r\u001b[K     |▌                               | 30kB 24.8MB/s eta 0:00:01\r\u001b[K     |▊                               | 40kB 28.5MB/s eta 0:00:01\r\u001b[K     |▉                               | 51kB 25.9MB/s eta 0:00:01\r\u001b[K     |█                               | 61kB 28.5MB/s eta 0:00:01\r\u001b[K     |█▏                              | 71kB 18.7MB/s eta 0:00:01\r\u001b[K     |█▍                              | 81kB 20.0MB/s eta 0:00:01\r\u001b[K     |█▌                              | 92kB 18.7MB/s eta 0:00:01\r\u001b[K     |█▊                              | 102kB 18.8MB/s eta 0:00:01\r\u001b[K     |██                              | 112kB 18.8MB/s eta 0:00:01\r\u001b[K     |██                              | 122kB 18.8MB/s eta 0:00:01\r\u001b[K     |██▎                             | 133kB 18.8MB/s eta 0:00:01\r\u001b[K     |██▍                             | 143kB 18.8MB/s eta 0:00:01\r\u001b[K     |██▋                             | 153kB 18.8MB/s eta 0:00:01\r\u001b[K     |██▊                             | 163kB 18.8MB/s eta 0:00:01\r\u001b[K     |███                             | 174kB 18.8MB/s eta 0:00:01\r\u001b[K     |███                             | 184kB 18.8MB/s eta 0:00:01\r\u001b[K     |███▎                            | 194kB 18.8MB/s eta 0:00:01\r\u001b[K     |███▌                            | 204kB 18.8MB/s eta 0:00:01\r\u001b[K     |███▋                            | 215kB 18.8MB/s eta 0:00:01\r\u001b[K     |███▉                            | 225kB 18.8MB/s eta 0:00:01\r\u001b[K     |████                            | 235kB 18.8MB/s eta 0:00:01\r\u001b[K     |████▏                           | 245kB 18.8MB/s eta 0:00:01\r\u001b[K     |████▎                           | 256kB 18.8MB/s eta 0:00:01\r\u001b[K     |████▌                           | 266kB 18.8MB/s eta 0:00:01\r\u001b[K     |████▋                           | 276kB 18.8MB/s eta 0:00:01\r\u001b[K     |████▉                           | 286kB 18.8MB/s eta 0:00:01\r\u001b[K     |█████                           | 296kB 18.8MB/s eta 0:00:01\r\u001b[K     |█████▏                          | 307kB 18.8MB/s eta 0:00:01\r\u001b[K     |█████▍                          | 317kB 18.8MB/s eta 0:00:01\r\u001b[K     |█████▌                          | 327kB 18.8MB/s eta 0:00:01\r\u001b[K     |█████▊                          | 337kB 18.8MB/s eta 0:00:01\r\u001b[K     |█████▉                          | 348kB 18.8MB/s eta 0:00:01\r\u001b[K     |██████                          | 358kB 18.8MB/s eta 0:00:01\r\u001b[K     |██████▏                         | 368kB 18.8MB/s eta 0:00:01\r\u001b[K     |██████▍                         | 378kB 18.8MB/s eta 0:00:01\r\u001b[K     |██████▋                         | 389kB 18.8MB/s eta 0:00:01\r\u001b[K     |██████▊                         | 399kB 18.8MB/s eta 0:00:01\r\u001b[K     |███████                         | 409kB 18.8MB/s eta 0:00:01\r\u001b[K     |███████                         | 419kB 18.8MB/s eta 0:00:01\r\u001b[K     |███████▎                        | 430kB 18.8MB/s eta 0:00:01\r\u001b[K     |███████▍                        | 440kB 18.8MB/s eta 0:00:01\r\u001b[K     |███████▋                        | 450kB 18.8MB/s eta 0:00:01\r\u001b[K     |███████▊                        | 460kB 18.8MB/s eta 0:00:01\r\u001b[K     |████████                        | 471kB 18.8MB/s eta 0:00:01\r\u001b[K     |████████▏                       | 481kB 18.8MB/s eta 0:00:01\r\u001b[K     |████████▎                       | 491kB 18.8MB/s eta 0:00:01\r\u001b[K     |████████▌                       | 501kB 18.8MB/s eta 0:00:01\r\u001b[K     |████████▋                       | 512kB 18.8MB/s eta 0:00:01\r\u001b[K     |████████▉                       | 522kB 18.8MB/s eta 0:00:01\r\u001b[K     |█████████                       | 532kB 18.8MB/s eta 0:00:01\r\u001b[K     |█████████▏                      | 542kB 18.8MB/s eta 0:00:01\r\u001b[K     |█████████▎                      | 552kB 18.8MB/s eta 0:00:01\r\u001b[K     |█████████▌                      | 563kB 18.8MB/s eta 0:00:01\r\u001b[K     |█████████▊                      | 573kB 18.8MB/s eta 0:00:01\r\u001b[K     |█████████▉                      | 583kB 18.8MB/s eta 0:00:01\r\u001b[K     |██████████                      | 593kB 18.8MB/s eta 0:00:01\r\u001b[K     |██████████▏                     | 604kB 18.8MB/s eta 0:00:01\r\u001b[K     |██████████▍                     | 614kB 18.8MB/s eta 0:00:01\r\u001b[K     |██████████▌                     | 624kB 18.8MB/s eta 0:00:01\r\u001b[K     |██████████▊                     | 634kB 18.8MB/s eta 0:00:01\r\u001b[K     |██████████▉                     | 645kB 18.8MB/s eta 0:00:01\r\u001b[K     |███████████                     | 655kB 18.8MB/s eta 0:00:01\r\u001b[K     |███████████▎                    | 665kB 18.8MB/s eta 0:00:01\r\u001b[K     |███████████▍                    | 675kB 18.8MB/s eta 0:00:01\r\u001b[K     |███████████▋                    | 686kB 18.8MB/s eta 0:00:01\r\u001b[K     |███████████▊                    | 696kB 18.8MB/s eta 0:00:01\r\u001b[K     |████████████                    | 706kB 18.8MB/s eta 0:00:01\r\u001b[K     |████████████                    | 716kB 18.8MB/s eta 0:00:01\r\u001b[K     |████████████▎                   | 727kB 18.8MB/s eta 0:00:01\r\u001b[K     |████████████▍                   | 737kB 18.8MB/s eta 0:00:01\r\u001b[K     |████████████▋                   | 747kB 18.8MB/s eta 0:00:01\r\u001b[K     |████████████▉                   | 757kB 18.8MB/s eta 0:00:01\r\u001b[K     |█████████████                   | 768kB 18.8MB/s eta 0:00:01\r\u001b[K     |█████████████▏                  | 778kB 18.8MB/s eta 0:00:01\r\u001b[K     |█████████████▎                  | 788kB 18.8MB/s eta 0:00:01\r\u001b[K     |█████████████▌                  | 798kB 18.8MB/s eta 0:00:01\r\u001b[K     |█████████████▋                  | 808kB 18.8MB/s eta 0:00:01\r\u001b[K     |█████████████▉                  | 819kB 18.8MB/s eta 0:00:01\r\u001b[K     |██████████████                  | 829kB 18.8MB/s eta 0:00:01\r\u001b[K     |██████████████▏                 | 839kB 18.8MB/s eta 0:00:01\r\u001b[K     |██████████████▍                 | 849kB 18.8MB/s eta 0:00:01\r\u001b[K     |██████████████▌                 | 860kB 18.8MB/s eta 0:00:01\r\u001b[K     |██████████████▊                 | 870kB 18.8MB/s eta 0:00:01\r\u001b[K     |██████████████▉                 | 880kB 18.8MB/s eta 0:00:01\r\u001b[K     |███████████████                 | 890kB 18.8MB/s eta 0:00:01\r\u001b[K     |███████████████▏                | 901kB 18.8MB/s eta 0:00:01\r\u001b[K     |███████████████▍                | 911kB 18.8MB/s eta 0:00:01\r\u001b[K     |███████████████▌                | 921kB 18.8MB/s eta 0:00:01\r\u001b[K     |███████████████▊                | 931kB 18.8MB/s eta 0:00:01\r\u001b[K     |████████████████                | 942kB 18.8MB/s eta 0:00:01\r\u001b[K     |████████████████                | 952kB 18.8MB/s eta 0:00:01\r\u001b[K     |████████████████▎               | 962kB 18.8MB/s eta 0:00:01\r\u001b[K     |████████████████▍               | 972kB 18.8MB/s eta 0:00:01\r\u001b[K     |████████████████▋               | 983kB 18.8MB/s eta 0:00:01\r\u001b[K     |████████████████▊               | 993kB 18.8MB/s eta 0:00:01\r\u001b[K     |█████████████████               | 1.0MB 18.8MB/s eta 0:00:01\r\u001b[K     |█████████████████               | 1.0MB 18.8MB/s eta 0:00:01\r\u001b[K     |█████████████████▎              | 1.0MB 18.8MB/s eta 0:00:01\r\u001b[K     |█████████████████▍              | 1.0MB 18.8MB/s eta 0:00:01\r\u001b[K     |█████████████████▋              | 1.0MB 18.8MB/s eta 0:00:01\r\u001b[K     |█████████████████▉              | 1.1MB 18.8MB/s eta 0:00:01\r\u001b[K     |██████████████████              | 1.1MB 18.8MB/s eta 0:00:01\r\u001b[K     |██████████████████▏             | 1.1MB 18.8MB/s eta 0:00:01\r\u001b[K     |██████████████████▎             | 1.1MB 18.8MB/s eta 0:00:01\r\u001b[K     |██████████████████▌             | 1.1MB 18.8MB/s eta 0:00:01\r\u001b[K     |██████████████████▋             | 1.1MB 18.8MB/s eta 0:00:01\r\u001b[K     |██████████████████▉             | 1.1MB 18.8MB/s eta 0:00:01\r\u001b[K     |███████████████████             | 1.1MB 18.8MB/s eta 0:00:01\r\u001b[K     |███████████████████▏            | 1.1MB 18.8MB/s eta 0:00:01\r\u001b[K     |███████████████████▍            | 1.1MB 18.8MB/s eta 0:00:01\r\u001b[K     |███████████████████▌            | 1.2MB 18.8MB/s eta 0:00:01\r\u001b[K     |███████████████████▊            | 1.2MB 18.8MB/s eta 0:00:01\r\u001b[K     |███████████████████▉            | 1.2MB 18.8MB/s eta 0:00:01\r\u001b[K     |████████████████████            | 1.2MB 18.8MB/s eta 0:00:01\r\u001b[K     |████████████████████▏           | 1.2MB 18.8MB/s eta 0:00:01\r\u001b[K     |████████████████████▍           | 1.2MB 18.8MB/s eta 0:00:01\r\u001b[K     |████████████████████▌           | 1.2MB 18.8MB/s eta 0:00:01\r\u001b[K     |████████████████████▊           | 1.2MB 18.8MB/s eta 0:00:01\r\u001b[K     |█████████████████████           | 1.2MB 18.8MB/s eta 0:00:01\r\u001b[K     |█████████████████████           | 1.2MB 18.8MB/s eta 0:00:01\r\u001b[K     |█████████████████████▎          | 1.3MB 18.8MB/s eta 0:00:01\r\u001b[K     |█████████████████████▍          | 1.3MB 18.8MB/s eta 0:00:01\r\u001b[K     |█████████████████████▋          | 1.3MB 18.8MB/s eta 0:00:01\r\u001b[K     |█████████████████████▊          | 1.3MB 18.8MB/s eta 0:00:01\r\u001b[K     |██████████████████████          | 1.3MB 18.8MB/s eta 0:00:01\r\u001b[K     |██████████████████████          | 1.3MB 18.8MB/s eta 0:00:01\r\u001b[K     |██████████████████████▎         | 1.3MB 18.8MB/s eta 0:00:01\r\u001b[K     |██████████████████████▌         | 1.3MB 18.8MB/s eta 0:00:01\r\u001b[K     |██████████████████████▋         | 1.3MB 18.8MB/s eta 0:00:01\r\u001b[K     |██████████████████████▉         | 1.4MB 18.8MB/s eta 0:00:01\r\u001b[K     |███████████████████████         | 1.4MB 18.8MB/s eta 0:00:01\r\u001b[K     |███████████████████████▏        | 1.4MB 18.8MB/s eta 0:00:01\r\u001b[K     |███████████████████████▎        | 1.4MB 18.8MB/s eta 0:00:01\r\u001b[K     |███████████████████████▌        | 1.4MB 18.8MB/s eta 0:00:01\r\u001b[K     |███████████████████████▋        | 1.4MB 18.8MB/s eta 0:00:01\r\u001b[K     |███████████████████████▉        | 1.4MB 18.8MB/s eta 0:00:01\r\u001b[K     |████████████████████████        | 1.4MB 18.8MB/s eta 0:00:01\r\u001b[K     |████████████████████████▏       | 1.4MB 18.8MB/s eta 0:00:01\r\u001b[K     |████████████████████████▍       | 1.4MB 18.8MB/s eta 0:00:01\r\u001b[K     |████████████████████████▌       | 1.5MB 18.8MB/s eta 0:00:01\r\u001b[K     |████████████████████████▊       | 1.5MB 18.8MB/s eta 0:00:01\r\u001b[K     |████████████████████████▉       | 1.5MB 18.8MB/s eta 0:00:01\r\u001b[K     |█████████████████████████       | 1.5MB 18.8MB/s eta 0:00:01\r\u001b[K     |█████████████████████████▏      | 1.5MB 18.8MB/s eta 0:00:01\r\u001b[K     |█████████████████████████▍      | 1.5MB 18.8MB/s eta 0:00:01\r\u001b[K     |█████████████████████████▋      | 1.5MB 18.8MB/s eta 0:00:01\r\u001b[K     |█████████████████████████▊      | 1.5MB 18.8MB/s eta 0:00:01\r\u001b[K     |██████████████████████████      | 1.5MB 18.8MB/s eta 0:00:01\r\u001b[K     |██████████████████████████      | 1.5MB 18.8MB/s eta 0:00:01\r\u001b[K     |██████████████████████████▎     | 1.6MB 18.8MB/s eta 0:00:01\r\u001b[K     |██████████████████████████▍     | 1.6MB 18.8MB/s eta 0:00:01\r\u001b[K     |██████████████████████████▋     | 1.6MB 18.8MB/s eta 0:00:01\r\u001b[K     |██████████████████████████▊     | 1.6MB 18.8MB/s eta 0:00:01\r\u001b[K     |███████████████████████████     | 1.6MB 18.8MB/s eta 0:00:01\r\u001b[K     |███████████████████████████▏    | 1.6MB 18.8MB/s eta 0:00:01\r\u001b[K     |███████████████████████████▎    | 1.6MB 18.8MB/s eta 0:00:01\r\u001b[K     |███████████████████████████▌    | 1.6MB 18.8MB/s eta 0:00:01\r\u001b[K     |███████████████████████████▋    | 1.6MB 18.8MB/s eta 0:00:01\r\u001b[K     |███████████████████████████▉    | 1.6MB 18.8MB/s eta 0:00:01\r\u001b[K     |████████████████████████████    | 1.7MB 18.8MB/s eta 0:00:01\r\u001b[K     |████████████████████████████▏   | 1.7MB 18.8MB/s eta 0:00:01\r\u001b[K     |████████████████████████████▎   | 1.7MB 18.8MB/s eta 0:00:01\r\u001b[K     |████████████████████████████▌   | 1.7MB 18.8MB/s eta 0:00:01\r\u001b[K     |████████████████████████████▊   | 1.7MB 18.8MB/s eta 0:00:01\r\u001b[K     |████████████████████████████▉   | 1.7MB 18.8MB/s eta 0:00:01\r\u001b[K     |█████████████████████████████   | 1.7MB 18.8MB/s eta 0:00:01\r\u001b[K     |█████████████████████████████▏  | 1.7MB 18.8MB/s eta 0:00:01\r\u001b[K     |█████████████████████████████▍  | 1.7MB 18.8MB/s eta 0:00:01\r\u001b[K     |█████████████████████████████▌  | 1.8MB 18.8MB/s eta 0:00:01\r\u001b[K     |█████████████████████████████▊  | 1.8MB 18.8MB/s eta 0:00:01\r\u001b[K     |█████████████████████████████▉  | 1.8MB 18.8MB/s eta 0:00:01\r\u001b[K     |██████████████████████████████  | 1.8MB 18.8MB/s eta 0:00:01\r\u001b[K     |██████████████████████████████▎ | 1.8MB 18.8MB/s eta 0:00:01\r\u001b[K     |██████████████████████████████▍ | 1.8MB 18.8MB/s eta 0:00:01\r\u001b[K     |██████████████████████████████▋ | 1.8MB 18.8MB/s eta 0:00:01\r\u001b[K     |██████████████████████████████▊ | 1.8MB 18.8MB/s eta 0:00:01\r\u001b[K     |███████████████████████████████ | 1.8MB 18.8MB/s eta 0:00:01\r\u001b[K     |███████████████████████████████ | 1.8MB 18.8MB/s eta 0:00:01\r\u001b[K     |███████████████████████████████▎| 1.9MB 18.8MB/s eta 0:00:01\r\u001b[K     |███████████████████████████████▍| 1.9MB 18.8MB/s eta 0:00:01\r\u001b[K     |███████████████████████████████▋| 1.9MB 18.8MB/s eta 0:00:01\r\u001b[K     |███████████████████████████████▉| 1.9MB 18.8MB/s eta 0:00:01\r\u001b[K     |████████████████████████████████| 1.9MB 18.8MB/s eta 0:00:01\r\u001b[K     |████████████████████████████████| 1.9MB 18.8MB/s \n",
            "\u001b[?25hRequirement already satisfied: importlib-metadata; python_version < \"3.8\" in /usr/local/lib/python3.7/dist-packages (from transformers) (3.4.0)\n",
            "Requirement already satisfied: filelock in /usr/local/lib/python3.7/dist-packages (from transformers) (3.0.12)\n",
            "Requirement already satisfied: tqdm>=4.27 in /usr/local/lib/python3.7/dist-packages (from transformers) (4.41.1)\n",
            "Requirement already satisfied: numpy>=1.17 in /usr/local/lib/python3.7/dist-packages (from transformers) (1.19.5)\n",
            "Requirement already satisfied: regex!=2019.12.17 in /usr/local/lib/python3.7/dist-packages (from transformers) (2019.12.20)\n",
            "Requirement already satisfied: packaging in /usr/local/lib/python3.7/dist-packages (from transformers) (20.9)\n",
            "Collecting tokenizers<0.11,>=0.10.1\n",
            "\u001b[?25l  Downloading https://files.pythonhosted.org/packages/71/23/2ddc317b2121117bf34dd00f5b0de194158f2a44ee2bf5e47c7166878a97/tokenizers-0.10.1-cp37-cp37m-manylinux2010_x86_64.whl (3.2MB)\n",
            "\u001b[K     |████████████████████████████████| 3.2MB 47.4MB/s \n",
            "\u001b[?25hCollecting sacremoses\n",
            "\u001b[?25l  Downloading https://files.pythonhosted.org/packages/7d/34/09d19aff26edcc8eb2a01bed8e98f13a1537005d31e95233fd48216eed10/sacremoses-0.0.43.tar.gz (883kB)\n",
            "\u001b[K     |████████████████████████████████| 890kB 51.2MB/s \n",
            "\u001b[?25hRequirement already satisfied: requests in /usr/local/lib/python3.7/dist-packages (from transformers) (2.23.0)\n",
            "Requirement already satisfied: zipp>=0.5 in /usr/local/lib/python3.7/dist-packages (from importlib-metadata; python_version < \"3.8\"->transformers) (3.4.0)\n",
            "Requirement already satisfied: typing-extensions>=3.6.4; python_version < \"3.8\" in /usr/local/lib/python3.7/dist-packages (from importlib-metadata; python_version < \"3.8\"->transformers) (3.7.4.3)\n",
            "Requirement already satisfied: pyparsing>=2.0.2 in /usr/local/lib/python3.7/dist-packages (from packaging->transformers) (2.4.7)\n",
            "Requirement already satisfied: six in /usr/local/lib/python3.7/dist-packages (from sacremoses->transformers) (1.15.0)\n",
            "Requirement already satisfied: click in /usr/local/lib/python3.7/dist-packages (from sacremoses->transformers) (7.1.2)\n",
            "Requirement already satisfied: joblib in /usr/local/lib/python3.7/dist-packages (from sacremoses->transformers) (1.0.1)\n",
            "Requirement already satisfied: chardet<4,>=3.0.2 in /usr/local/lib/python3.7/dist-packages (from requests->transformers) (3.0.4)\n",
            "Requirement already satisfied: idna<3,>=2.5 in /usr/local/lib/python3.7/dist-packages (from requests->transformers) (2.10)\n",
            "Requirement already satisfied: certifi>=2017.4.17 in /usr/local/lib/python3.7/dist-packages (from requests->transformers) (2020.12.5)\n",
            "Requirement already satisfied: urllib3!=1.25.0,!=1.25.1,<1.26,>=1.21.1 in /usr/local/lib/python3.7/dist-packages (from requests->transformers) (1.24.3)\n",
            "Building wheels for collected packages: sacremoses\n",
            "  Building wheel for sacremoses (setup.py) ... \u001b[?25l\u001b[?25hdone\n",
            "  Created wheel for sacremoses: filename=sacremoses-0.0.43-cp37-none-any.whl size=893262 sha256=015b412301865c532a1c561eb5e2154693b8faf6bfc9a3e3c680229297a619ad\n",
            "  Stored in directory: /root/.cache/pip/wheels/29/3c/fd/7ce5c3f0666dab31a50123635e6fb5e19ceb42ce38d4e58f45\n",
            "Successfully built sacremoses\n",
            "Installing collected packages: tokenizers, sacremoses, transformers\n",
            "Successfully installed sacremoses-0.0.43 tokenizers-0.10.1 transformers-4.3.3\n",
            "Collecting datasets\n",
            "\u001b[?25l  Downloading https://files.pythonhosted.org/packages/a2/12/5fd53adc5ba8a8d562b19f2c1c859547659e96b87a767cd52556538d205e/datasets-1.3.0-py3-none-any.whl (181kB)\n",
            "\u001b[K     |████████████████████████████████| 184kB 17.5MB/s \n",
            "\u001b[?25hRequirement already satisfied: importlib-metadata; python_version < \"3.8\" in /usr/local/lib/python3.7/dist-packages (from datasets) (3.4.0)\n",
            "Collecting fsspec\n",
            "\u001b[?25l  Downloading https://files.pythonhosted.org/packages/91/0d/a6bfee0ddf47b254286b9bd574e6f50978c69897647ae15b14230711806e/fsspec-0.8.7-py3-none-any.whl (103kB)\n",
            "\u001b[K     |████████████████████████████████| 112kB 42.2MB/s \n",
            "\u001b[?25hCollecting huggingface-hub==0.0.2\n",
            "  Downloading https://files.pythonhosted.org/packages/b5/93/7cb0755c62c36cdadc70c79a95681df685b52cbaf76c724facb6ecac3272/huggingface_hub-0.0.2-py3-none-any.whl\n",
            "Requirement already satisfied: pandas in /usr/local/lib/python3.7/dist-packages (from datasets) (1.1.5)\n",
            "Requirement already satisfied: tqdm<4.50.0,>=4.27 in /usr/local/lib/python3.7/dist-packages (from datasets) (4.41.1)\n",
            "Requirement already satisfied: multiprocess in /usr/local/lib/python3.7/dist-packages (from datasets) (0.70.11.1)\n",
            "Requirement already satisfied: dill in /usr/local/lib/python3.7/dist-packages (from datasets) (0.3.3)\n",
            "Requirement already satisfied: numpy>=1.17 in /usr/local/lib/python3.7/dist-packages (from datasets) (1.19.5)\n",
            "Collecting pyarrow>=0.17.1\n",
            "\u001b[?25l  Downloading https://files.pythonhosted.org/packages/fc/61/814f4c8d2cd4d51dfd80a9c4ea14b8fd09e37cb0f6962c1f04d504a02e03/pyarrow-3.0.0-cp37-cp37m-manylinux2014_x86_64.whl (20.7MB)\n",
            "\u001b[K     |████████████████████████████████| 20.7MB 9.2MB/s \n",
            "\u001b[?25hRequirement already satisfied: requests>=2.19.0 in /usr/local/lib/python3.7/dist-packages (from datasets) (2.23.0)\n",
            "Collecting xxhash\n",
            "\u001b[?25l  Downloading https://files.pythonhosted.org/packages/e7/27/1c0b37c53a7852f1c190ba5039404d27b3ae96a55f48203a74259f8213c9/xxhash-2.0.0-cp37-cp37m-manylinux2010_x86_64.whl (243kB)\n",
            "\u001b[K     |████████████████████████████████| 245kB 60.5MB/s \n",
            "\u001b[?25hRequirement already satisfied: zipp>=0.5 in /usr/local/lib/python3.7/dist-packages (from importlib-metadata; python_version < \"3.8\"->datasets) (3.4.0)\n",
            "Requirement already satisfied: typing-extensions>=3.6.4; python_version < \"3.8\" in /usr/local/lib/python3.7/dist-packages (from importlib-metadata; python_version < \"3.8\"->datasets) (3.7.4.3)\n",
            "Requirement already satisfied: filelock in /usr/local/lib/python3.7/dist-packages (from huggingface-hub==0.0.2->datasets) (3.0.12)\n",
            "Requirement already satisfied: python-dateutil>=2.7.3 in /usr/local/lib/python3.7/dist-packages (from pandas->datasets) (2.8.1)\n",
            "Requirement already satisfied: pytz>=2017.2 in /usr/local/lib/python3.7/dist-packages (from pandas->datasets) (2018.9)\n",
            "Requirement already satisfied: idna<3,>=2.5 in /usr/local/lib/python3.7/dist-packages (from requests>=2.19.0->datasets) (2.10)\n",
            "Requirement already satisfied: urllib3!=1.25.0,!=1.25.1,<1.26,>=1.21.1 in /usr/local/lib/python3.7/dist-packages (from requests>=2.19.0->datasets) (1.24.3)\n",
            "Requirement already satisfied: certifi>=2017.4.17 in /usr/local/lib/python3.7/dist-packages (from requests>=2.19.0->datasets) (2020.12.5)\n",
            "Requirement already satisfied: chardet<4,>=3.0.2 in /usr/local/lib/python3.7/dist-packages (from requests>=2.19.0->datasets) (3.0.4)\n",
            "Requirement already satisfied: six>=1.5 in /usr/local/lib/python3.7/dist-packages (from python-dateutil>=2.7.3->pandas->datasets) (1.15.0)\n",
            "Installing collected packages: fsspec, huggingface-hub, pyarrow, xxhash, datasets\n",
            "  Found existing installation: pyarrow 0.14.1\n",
            "    Uninstalling pyarrow-0.14.1:\n",
            "      Successfully uninstalled pyarrow-0.14.1\n",
            "Successfully installed datasets-1.3.0 fsspec-0.8.7 huggingface-hub-0.0.2 pyarrow-3.0.0 xxhash-2.0.0\n"
          ],
          "name": "stdout"
        }
      ]
    },
    {
      "cell_type": "code",
      "metadata": {
        "colab": {
          "base_uri": "https://localhost:8080/"
        },
        "id": "w6NTQ_KrcdXC",
        "outputId": "7257e174-ccf9-4386-b02a-26ffca3f22b5"
      },
      "source": [
        "# Get dataset from imdb\r\n",
        "!wget http://ai.stanford.edu/~amaas/data/sentiment/aclImdb_v1.tar.gz\r\n",
        "!tar -xf aclImdb_v1.tar.gz"
      ],
      "execution_count": null,
      "outputs": [
        {
          "output_type": "stream",
          "text": [
            "--2021-02-26 01:08:17--  http://ai.stanford.edu/~amaas/data/sentiment/aclImdb_v1.tar.gz\n",
            "Resolving ai.stanford.edu (ai.stanford.edu)... 171.64.68.10\n",
            "Connecting to ai.stanford.edu (ai.stanford.edu)|171.64.68.10|:80... connected.\n",
            "HTTP request sent, awaiting response... 200 OK\n",
            "Length: 84125825 (80M) [application/x-gzip]\n",
            "Saving to: ‘aclImdb_v1.tar.gz’\n",
            "\n",
            "aclImdb_v1.tar.gz   100%[===================>]  80.23M  24.9MB/s    in 3.4s    \n",
            "\n",
            "2021-02-26 01:08:21 (23.3 MB/s) - ‘aclImdb_v1.tar.gz’ saved [84125825/84125825]\n",
            "\n"
          ],
          "name": "stdout"
        }
      ]
    },
    {
      "cell_type": "code",
      "metadata": {
        "id": "SeJ1NLaZdTdW"
      },
      "source": [
        "from pathlib import Path\r\n",
        "\r\n",
        "# Function for separating text and its labels. Gets the name of directory to split as parameter\r\n",
        "def read_imdb_split(split_dir):\r\n",
        "    split_dir = Path(split_dir)\r\n",
        "    texts = []\r\n",
        "    labels = []\r\n",
        "    # Data is organized in to folders, \"pos\" and \"neg\", representing positive and negative reviws\r\n",
        "    for label_dir in [\"pos\", \"neg\"]:\r\n",
        "        for text_file in (split_dir/label_dir).iterdir():\r\n",
        "            texts.append(text_file.read_text())\r\n",
        "            labels.append(0 if label_dir is \"neg\" else 1)\r\n",
        "\r\n",
        "    return texts, labels\r\n",
        "# Runs the function to divade text and lables from bolth training and testing examples\r\n",
        "train_texts, train_labels = read_imdb_split('aclImdb/train')\r\n",
        "test_texts, test_labels = read_imdb_split('aclImdb/test')"
      ],
      "execution_count": null,
      "outputs": []
    },
    {
      "cell_type": "code",
      "metadata": {
        "id": "Z5U-uvc6fS4k"
      },
      "source": [
        "# Creates a validation dataset use for evaluation and tuning without tainting our test set results\r\n",
        "from sklearn.model_selection import train_test_split\r\n",
        "train_texts, val_texts, train_labels, val_labels = train_test_split(train_texts, train_labels, test_size=.2)"
      ],
      "execution_count": null,
      "outputs": []
    },
    {
      "cell_type": "code",
      "metadata": {
        "id": "zlcFM06PgAj8",
        "colab": {
          "base_uri": "https://localhost:8080/",
          "height": 114,
          "referenced_widgets": [
            "21336210aab3458c89dd1b87e52fa802",
            "d5c354e447c3441bb494e71991b5c8e7",
            "4f4d7bdd564449a18608ce0df3fbfc70",
            "d769394d4fab4a7f93dab0a3071da4a7",
            "3d0fe223aedf44fdb4fde47aed387eef",
            "8c1f67ebdea64523af1716f5c29696ad",
            "8ad1ea685d754575bb1d2392f5b00e17",
            "a58252109a854c4dad651c905e486003",
            "8a355eca29214e43a015d75b8f79e3ac",
            "a30d8622076249a29a7d1bc1e6a553d3",
            "2c42a82d2283469ebec9642c756c19a5",
            "d3fd4c350349423f8dafe9a738ed29f4",
            "404d87db6407445692fe5b329c4e59eb",
            "3d9931299eba418eb3427399725bb09e",
            "214eb70da80f49d9add05c21cce36c07",
            "aea524cebe43445faeb78e66dd293979"
          ]
        },
        "outputId": "31776b76-9855-4f9c-c7fd-f3b5b21c2f39"
      },
      "source": [
        "# Creates an Bert tokenizer \r\n",
        "from transformers import DistilBertTokenizerFast\r\n",
        "tokenizer = DistilBertTokenizerFast.from_pretrained(\"distilbert-base-uncased\")"
      ],
      "execution_count": null,
      "outputs": [
        {
          "output_type": "display_data",
          "data": {
            "application/vnd.jupyter.widget-view+json": {
              "model_id": "21336210aab3458c89dd1b87e52fa802",
              "version_minor": 0,
              "version_major": 2
            },
            "text/plain": [
              "HBox(children=(FloatProgress(value=0.0, description='Downloading', max=231508.0, style=ProgressStyle(descripti…"
            ]
          },
          "metadata": {
            "tags": []
          }
        },
        {
          "output_type": "stream",
          "text": [
            "\n"
          ],
          "name": "stdout"
        },
        {
          "output_type": "display_data",
          "data": {
            "application/vnd.jupyter.widget-view+json": {
              "model_id": "8a355eca29214e43a015d75b8f79e3ac",
              "version_minor": 0,
              "version_major": 2
            },
            "text/plain": [
              "HBox(children=(FloatProgress(value=0.0, description='Downloading', max=466062.0, style=ProgressStyle(descripti…"
            ]
          },
          "metadata": {
            "tags": []
          }
        },
        {
          "output_type": "stream",
          "text": [
            "\n"
          ],
          "name": "stdout"
        }
      ]
    },
    {
      "cell_type": "code",
      "metadata": {
        "id": "LnHvj0pJhPPP"
      },
      "source": [
        "# Passing text for the tokenizer. Using truncation and paddin as true.\r\n",
        "train_encodings = tokenizer(train_texts, truncation=True, padding=True)\r\n",
        "val_encodings = tokenizer(val_texts, truncation=True, padding=True)\r\n",
        "test_encodings = tokenizer(test_texts, truncation=True, padding=True)"
      ],
      "execution_count": null,
      "outputs": []
    },
    {
      "cell_type": "code",
      "metadata": {
        "id": "UcZoLyiDh4Vw"
      },
      "source": [
        "# Turning lables and encoding in to a Dataset object.\r\n",
        "import torch\r\n",
        "\r\n",
        "# Class IMDbDataset is a subclass of torch.utils.data.Dataset and inplements __getitem__ and __len__\r\n",
        "class IMDbDataset(torch.utils.data.Dataset):\r\n",
        "    # Class contructor, gets as parameter encodings and lables\r\n",
        "    def __init__(self, encodings, labels):\r\n",
        "        self.encodings = encodings\r\n",
        "        self.labels = labels\r\n",
        "\r\n",
        "    # Return ? TODO\r\n",
        "    def __getitem__(self, idx):\r\n",
        "        item = {key: torch.tensor(val[idx]) for key, val in self.encodings.items()}\r\n",
        "        item['labels'] = torch.tensor(self.labels[idx])\r\n",
        "        return item\r\n",
        "\r\n",
        "    # Retuen lables lenth\r\n",
        "    def __len__(self):\r\n",
        "        return len(self.labels)\r\n",
        "\r\n",
        "train_dataset = IMDbDataset(train_encodings, train_labels)\r\n",
        "val_dataset = IMDbDataset(val_encodings, val_labels)\r\n",
        "test_dataset = IMDbDataset(test_encodings, test_labels)"
      ],
      "execution_count": null,
      "outputs": []
    },
    {
      "cell_type": "code",
      "metadata": {
        "colab": {
          "base_uri": "https://localhost:8080/"
        },
        "id": "WVYCMYwilgBK",
        "outputId": "b20ffe46-38a3-499e-de83-9bb1606c0b7e"
      },
      "source": [
        "# Checks if there is a gpu available\r\n",
        "import tensorflow as tf\r\n",
        "\r\n",
        "# Get the GPU device name.\r\n",
        "device_name = tf.test.gpu_device_name()\r\n",
        "\r\n",
        "# The device name should look like the following:\r\n",
        "if device_name == '/device:GPU:0':\r\n",
        "    print('Found GPU at: {}'.format(device_name))\r\n",
        "else:\r\n",
        "    print('GPU device not found')"
      ],
      "execution_count": null,
      "outputs": [
        {
          "output_type": "stream",
          "text": [
            "Found GPU at: /device:GPU:0\n"
          ],
          "name": "stdout"
        }
      ]
    },
    {
      "cell_type": "code",
      "metadata": {
        "colab": {
          "base_uri": "https://localhost:8080/",
          "height": 1000,
          "referenced_widgets": [
            "cdd5369638384df2b53a317380d32b6b",
            "a52a31da0eaa42bd95fb7c3c12ab9d5f",
            "1cb2ddfddffd4919966c78588a8e23b9",
            "77f0d10a16374d40844a14d401377451",
            "dfd33321d7f244adbf892cffe2908486",
            "f1d0f369f63b414b87f15838013f80f2",
            "f8dacc88ef0443ef8abf9fc942575406",
            "d0662131b8cf43b8a1f995def617b171",
            "c152c3bc64e44186a787d39b59d6df7e",
            "d1afac9eef31447da66d17292ce4a4b0",
            "87b7725485844c9eafb9ef5f45c4bac1",
            "bcadef9c390447f99ca776e02ba282d2",
            "e38a4ac4a6294a55bdb27a85e5be2cc8",
            "7ea7e076c76c4aceb5d17454298ac2ea",
            "1cb0e7a11dd1408594892248ed430c44",
            "7352d62a72f84ea78aae0c3849257927"
          ]
        },
        "id": "dCHtwEjCjkWz",
        "outputId": "6c5bdd39-e396-444e-d0d2-8ad0fd40ca44"
      },
      "source": [
        "# Finetuning the model\r\n",
        "from torch.utils.data import DataLoader\r\n",
        "from transformers import DistilBertForSequenceClassification, AdamW\r\n",
        "\r\n",
        "# Sets gpu as processing device if avalable\r\n",
        "device = torch.device('cuda') if torch.cuda.is_available() else torch.device('cpu')\r\n",
        "\r\n",
        "# Create the model for training\r\n",
        "model = DistilBertForSequenceClassification.from_pretrained('distilbert-base-uncased')\r\n",
        "model.to(device)\r\n",
        "model.train()\r\n",
        "\r\n",
        "# TODO: ?\r\n",
        "train_loader = DataLoader(train_dataset, batch_size=16, shuffle=True)\r\n",
        "\r\n",
        "optim = AdamW(model.parameters(), lr=5e-5)\r\n",
        "\r\n",
        "for epoch in range(15):\r\n",
        "    for batch in train_loader:\r\n",
        "        optim.zero_grad()\r\n",
        "        input_ids = batch['input_ids'].to(device)\r\n",
        "        attention_mask = batch['attention_mask'].to(device)\r\n",
        "        labels = batch['labels'].to(device)\r\n",
        "        outputs = model(input_ids, attention_mask=attention_mask, labels=labels)\r\n",
        "        loss = outputs[0]\r\n",
        "        loss.backward()\r\n",
        "        optim.step()\r\n",
        "\r\n",
        "model.eval()"
      ],
      "execution_count": null,
      "outputs": [
        {
          "output_type": "display_data",
          "data": {
            "application/vnd.jupyter.widget-view+json": {
              "model_id": "cdd5369638384df2b53a317380d32b6b",
              "version_minor": 0,
              "version_major": 2
            },
            "text/plain": [
              "HBox(children=(FloatProgress(value=0.0, description='Downloading', max=442.0, style=ProgressStyle(description_…"
            ]
          },
          "metadata": {
            "tags": []
          }
        },
        {
          "output_type": "stream",
          "text": [
            "\n"
          ],
          "name": "stdout"
        },
        {
          "output_type": "display_data",
          "data": {
            "application/vnd.jupyter.widget-view+json": {
              "model_id": "c152c3bc64e44186a787d39b59d6df7e",
              "version_minor": 0,
              "version_major": 2
            },
            "text/plain": [
              "HBox(children=(FloatProgress(value=0.0, description='Downloading', max=267967963.0, style=ProgressStyle(descri…"
            ]
          },
          "metadata": {
            "tags": []
          }
        },
        {
          "output_type": "stream",
          "text": [
            "\n"
          ],
          "name": "stdout"
        },
        {
          "output_type": "stream",
          "text": [
            "Some weights of the model checkpoint at distilbert-base-uncased were not used when initializing DistilBertForSequenceClassification: ['vocab_transform.weight', 'vocab_transform.bias', 'vocab_layer_norm.weight', 'vocab_layer_norm.bias', 'vocab_projector.weight', 'vocab_projector.bias']\n",
            "- This IS expected if you are initializing DistilBertForSequenceClassification from the checkpoint of a model trained on another task or with another architecture (e.g. initializing a BertForSequenceClassification model from a BertForPreTraining model).\n",
            "- This IS NOT expected if you are initializing DistilBertForSequenceClassification from the checkpoint of a model that you expect to be exactly identical (initializing a BertForSequenceClassification model from a BertForSequenceClassification model).\n",
            "Some weights of DistilBertForSequenceClassification were not initialized from the model checkpoint at distilbert-base-uncased and are newly initialized: ['pre_classifier.weight', 'pre_classifier.bias', 'classifier.weight', 'classifier.bias']\n",
            "You should probably TRAIN this model on a down-stream task to be able to use it for predictions and inference.\n"
          ],
          "name": "stderr"
        },
        {
          "output_type": "execute_result",
          "data": {
            "text/plain": [
              "DistilBertForSequenceClassification(\n",
              "  (distilbert): DistilBertModel(\n",
              "    (embeddings): Embeddings(\n",
              "      (word_embeddings): Embedding(30522, 768, padding_idx=0)\n",
              "      (position_embeddings): Embedding(512, 768)\n",
              "      (LayerNorm): LayerNorm((768,), eps=1e-12, elementwise_affine=True)\n",
              "      (dropout): Dropout(p=0.1, inplace=False)\n",
              "    )\n",
              "    (transformer): Transformer(\n",
              "      (layer): ModuleList(\n",
              "        (0): TransformerBlock(\n",
              "          (attention): MultiHeadSelfAttention(\n",
              "            (dropout): Dropout(p=0.1, inplace=False)\n",
              "            (q_lin): Linear(in_features=768, out_features=768, bias=True)\n",
              "            (k_lin): Linear(in_features=768, out_features=768, bias=True)\n",
              "            (v_lin): Linear(in_features=768, out_features=768, bias=True)\n",
              "            (out_lin): Linear(in_features=768, out_features=768, bias=True)\n",
              "          )\n",
              "          (sa_layer_norm): LayerNorm((768,), eps=1e-12, elementwise_affine=True)\n",
              "          (ffn): FFN(\n",
              "            (dropout): Dropout(p=0.1, inplace=False)\n",
              "            (lin1): Linear(in_features=768, out_features=3072, bias=True)\n",
              "            (lin2): Linear(in_features=3072, out_features=768, bias=True)\n",
              "          )\n",
              "          (output_layer_norm): LayerNorm((768,), eps=1e-12, elementwise_affine=True)\n",
              "        )\n",
              "        (1): TransformerBlock(\n",
              "          (attention): MultiHeadSelfAttention(\n",
              "            (dropout): Dropout(p=0.1, inplace=False)\n",
              "            (q_lin): Linear(in_features=768, out_features=768, bias=True)\n",
              "            (k_lin): Linear(in_features=768, out_features=768, bias=True)\n",
              "            (v_lin): Linear(in_features=768, out_features=768, bias=True)\n",
              "            (out_lin): Linear(in_features=768, out_features=768, bias=True)\n",
              "          )\n",
              "          (sa_layer_norm): LayerNorm((768,), eps=1e-12, elementwise_affine=True)\n",
              "          (ffn): FFN(\n",
              "            (dropout): Dropout(p=0.1, inplace=False)\n",
              "            (lin1): Linear(in_features=768, out_features=3072, bias=True)\n",
              "            (lin2): Linear(in_features=3072, out_features=768, bias=True)\n",
              "          )\n",
              "          (output_layer_norm): LayerNorm((768,), eps=1e-12, elementwise_affine=True)\n",
              "        )\n",
              "        (2): TransformerBlock(\n",
              "          (attention): MultiHeadSelfAttention(\n",
              "            (dropout): Dropout(p=0.1, inplace=False)\n",
              "            (q_lin): Linear(in_features=768, out_features=768, bias=True)\n",
              "            (k_lin): Linear(in_features=768, out_features=768, bias=True)\n",
              "            (v_lin): Linear(in_features=768, out_features=768, bias=True)\n",
              "            (out_lin): Linear(in_features=768, out_features=768, bias=True)\n",
              "          )\n",
              "          (sa_layer_norm): LayerNorm((768,), eps=1e-12, elementwise_affine=True)\n",
              "          (ffn): FFN(\n",
              "            (dropout): Dropout(p=0.1, inplace=False)\n",
              "            (lin1): Linear(in_features=768, out_features=3072, bias=True)\n",
              "            (lin2): Linear(in_features=3072, out_features=768, bias=True)\n",
              "          )\n",
              "          (output_layer_norm): LayerNorm((768,), eps=1e-12, elementwise_affine=True)\n",
              "        )\n",
              "        (3): TransformerBlock(\n",
              "          (attention): MultiHeadSelfAttention(\n",
              "            (dropout): Dropout(p=0.1, inplace=False)\n",
              "            (q_lin): Linear(in_features=768, out_features=768, bias=True)\n",
              "            (k_lin): Linear(in_features=768, out_features=768, bias=True)\n",
              "            (v_lin): Linear(in_features=768, out_features=768, bias=True)\n",
              "            (out_lin): Linear(in_features=768, out_features=768, bias=True)\n",
              "          )\n",
              "          (sa_layer_norm): LayerNorm((768,), eps=1e-12, elementwise_affine=True)\n",
              "          (ffn): FFN(\n",
              "            (dropout): Dropout(p=0.1, inplace=False)\n",
              "            (lin1): Linear(in_features=768, out_features=3072, bias=True)\n",
              "            (lin2): Linear(in_features=3072, out_features=768, bias=True)\n",
              "          )\n",
              "          (output_layer_norm): LayerNorm((768,), eps=1e-12, elementwise_affine=True)\n",
              "        )\n",
              "        (4): TransformerBlock(\n",
              "          (attention): MultiHeadSelfAttention(\n",
              "            (dropout): Dropout(p=0.1, inplace=False)\n",
              "            (q_lin): Linear(in_features=768, out_features=768, bias=True)\n",
              "            (k_lin): Linear(in_features=768, out_features=768, bias=True)\n",
              "            (v_lin): Linear(in_features=768, out_features=768, bias=True)\n",
              "            (out_lin): Linear(in_features=768, out_features=768, bias=True)\n",
              "          )\n",
              "          (sa_layer_norm): LayerNorm((768,), eps=1e-12, elementwise_affine=True)\n",
              "          (ffn): FFN(\n",
              "            (dropout): Dropout(p=0.1, inplace=False)\n",
              "            (lin1): Linear(in_features=768, out_features=3072, bias=True)\n",
              "            (lin2): Linear(in_features=3072, out_features=768, bias=True)\n",
              "          )\n",
              "          (output_layer_norm): LayerNorm((768,), eps=1e-12, elementwise_affine=True)\n",
              "        )\n",
              "        (5): TransformerBlock(\n",
              "          (attention): MultiHeadSelfAttention(\n",
              "            (dropout): Dropout(p=0.1, inplace=False)\n",
              "            (q_lin): Linear(in_features=768, out_features=768, bias=True)\n",
              "            (k_lin): Linear(in_features=768, out_features=768, bias=True)\n",
              "            (v_lin): Linear(in_features=768, out_features=768, bias=True)\n",
              "            (out_lin): Linear(in_features=768, out_features=768, bias=True)\n",
              "          )\n",
              "          (sa_layer_norm): LayerNorm((768,), eps=1e-12, elementwise_affine=True)\n",
              "          (ffn): FFN(\n",
              "            (dropout): Dropout(p=0.1, inplace=False)\n",
              "            (lin1): Linear(in_features=768, out_features=3072, bias=True)\n",
              "            (lin2): Linear(in_features=3072, out_features=768, bias=True)\n",
              "          )\n",
              "          (output_layer_norm): LayerNorm((768,), eps=1e-12, elementwise_affine=True)\n",
              "        )\n",
              "      )\n",
              "    )\n",
              "  )\n",
              "  (pre_classifier): Linear(in_features=768, out_features=768, bias=True)\n",
              "  (classifier): Linear(in_features=768, out_features=2, bias=True)\n",
              "  (dropout): Dropout(p=0.2, inplace=False)\n",
              ")"
            ]
          },
          "metadata": {
            "tags": []
          },
          "execution_count": 10
        }
      ]
    }
  ]
}